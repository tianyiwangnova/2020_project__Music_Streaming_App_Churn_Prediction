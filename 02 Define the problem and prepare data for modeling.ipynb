{
 "cells": [
  {
   "cell_type": "markdown",
   "metadata": {},
   "source": [
    "In this notebook we will explore how to define the concept \"churn\" and how we will predict the churn rate that we define."
   ]
  },
  {
   "cell_type": "code",
   "execution_count": 2,
   "metadata": {},
   "outputs": [
    {
     "data": {
      "text/html": [
       "<style scoped>\n",
       "  .ansiout {\n",
       "    display: block;\n",
       "    unicode-bidi: embed;\n",
       "    white-space: pre-wrap;\n",
       "    word-wrap: break-word;\n",
       "    word-break: break-all;\n",
       "    font-family: \"Source Code Pro\", \"Menlo\", monospace;;\n",
       "    font-size: 13px;\n",
       "    color: #555;\n",
       "    margin-left: 4px;\n",
       "    line-height: 19px;\n",
       "  }\n",
       "</style>\n",
       "<div class=\"ansiout\"></div>"
      ]
     },
     "metadata": {},
     "output_type": "display_data"
    }
   ],
   "source": [
    "import configparser \n",
    "from datetime import datetime \n",
    "import os \n",
    "from pyspark.sql import SparkSession \n",
    "from pyspark.sql.functions import udf, col \n",
    "from pyspark.sql.functions import year, month, dayofmonth, hour, weekofyear, date_format\n",
    "config = configparser.ConfigParser() "
   ]
  },
  {
   "cell_type": "code",
   "execution_count": 4,
   "metadata": {},
   "outputs": [
    {
     "data": {
      "text/html": [
       "<style scoped>\n",
       "  .ansiout {\n",
       "    display: block;\n",
       "    unicode-bidi: embed;\n",
       "    white-space: pre-wrap;\n",
       "    word-wrap: break-word;\n",
       "    word-break: break-all;\n",
       "    font-family: \"Source Code Pro\", \"Menlo\", monospace;;\n",
       "    font-size: 13px;\n",
       "    color: #555;\n",
       "    margin-left: 4px;\n",
       "    line-height: 19px;\n",
       "  }\n",
       "</style>\n",
       "<div class=\"ansiout\">reading data\n",
       "</div>"
      ]
     },
     "metadata": {},
     "output_type": "display_data"
    }
   ],
   "source": [
    "os.environ['AWS_ACCESS_KEY_ID'] = aws_access_key_id \n",
    "os.environ['AWS_SECRET_ACCESS_KEY'] = aws_secret_access_key\n",
    "os.environ['AWS_REGION_NAME']='us-west-1'\n",
    "def create_spark_session(): \n",
    "    spark = SparkSession \\\n",
    "        .builder \\\n",
    "        .config(\"spark.jars.packages\", \"org.apache.hadoop:hadoop-aws:2.7.0\") \\\n",
    "        .config(\"fs.s3n.awsAccessKeyId\", aws_access_key_id) \\\n",
    "        .config(\"fs.s3n.awsSecretAccessKey\" , aws_secret_access_key) \\\n",
    "        .getOrCreate() \n",
    "    return spark\n",
    "spark = create_spark_session() \n",
    "event_data = \"s3a://udacity-dsnd/sparkify/sparkify_event_data.json\"\n",
    "print(\"reading data\")\n",
    "df = spark.read.json(event_data)"
   ]
  },
  {
   "cell_type": "code",
   "execution_count": 5,
   "metadata": {},
   "outputs": [],
   "source": [
    "%run Users/tw2567@columbia.edu/Udacity/churn_prediction/util"
   ]
  },
  {
   "cell_type": "code",
   "execution_count": 6,
   "metadata": {},
   "outputs": [
    {
     "data": {
      "text/html": [
       "<style scoped>\n",
       "  .ansiout {\n",
       "    display: block;\n",
       "    unicode-bidi: embed;\n",
       "    white-space: pre-wrap;\n",
       "    word-wrap: break-word;\n",
       "    word-break: break-all;\n",
       "    font-family: \"Source Code Pro\", \"Menlo\", monospace;;\n",
       "    font-size: 13px;\n",
       "    color: #555;\n",
       "    margin-left: 4px;\n",
       "    line-height: 19px;\n",
       "  }\n",
       "</style>\n",
       "<div class=\"ansiout\">Numbers of rows in the data: 26,259,199\n",
       "Numbers of rows with N/A user Ids: 0\n",
       "Numbers of unique customers: 22,278\n",
       "</div>"
      ]
     },
     "metadata": {},
     "output_type": "display_data"
    }
   ],
   "source": [
    "dp = DataPreparation(df)"
   ]
  },
  {
   "cell_type": "code",
   "execution_count": 7,
   "metadata": {},
   "outputs": [
    {
     "data": {
      "text/html": [
       "<style scoped>\n",
       "  .ansiout {\n",
       "    display: block;\n",
       "    unicode-bidi: embed;\n",
       "    white-space: pre-wrap;\n",
       "    word-wrap: break-word;\n",
       "    word-break: break-all;\n",
       "    font-family: \"Source Code Pro\", \"Menlo\", monospace;;\n",
       "    font-size: 13px;\n",
       "    color: #555;\n",
       "    margin-left: 4px;\n",
       "    line-height: 19px;\n",
       "  }\n",
       "</style>\n",
       "<div class=\"ansiout\"></div>"
      ]
     },
     "metadata": {},
     "output_type": "display_data"
    }
   ],
   "source": [
    "user_activities = dp.user_activities"
   ]
  },
  {
   "cell_type": "code",
   "execution_count": 8,
   "metadata": {},
   "outputs": [
    {
     "data": {
      "text/html": [
       "<style scoped>\n",
       "  .table-result-container {\n",
       "    max-height: 300px;\n",
       "    overflow: auto;\n",
       "  }\n",
       "  table, th, td {\n",
       "    border: 1px solid black;\n",
       "    border-collapse: collapse;\n",
       "  }\n",
       "  th, td {\n",
       "    padding: 5px;\n",
       "  }\n",
       "  th {\n",
       "    text-align: left;\n",
       "  }\n",
       "</style><div class='table-result-container'><table class='table-result'><thead style='background-color: white'><tr><th>max(days_before_today)</th></tr></thead><tbody><tr><td>61</td></tr></tbody></table></div>"
      ]
     },
     "metadata": {},
     "output_type": "display_data"
    }
   ],
   "source": [
    "display(user_activities.select('days_before_today').groupby().max())"
   ]
  },
  {
   "cell_type": "markdown",
   "metadata": {},
   "source": [
    "Unfortunately we only have customers' activity data for 2 months..."
   ]
  },
  {
   "cell_type": "markdown",
   "metadata": {},
   "source": [
    "#Definition of \"being chruned\"\n",
    "**Churn:** either downgrade from paid level to free level or cancel the service\n",
    "<br>**Data used to predict:** Data till today\n",
    "<br>**Customers qualified for prediction:** Customers who are still active today\n",
    "\n",
    "Ideally we can predict churn activities that will happen for a longer time period (e.g. 14 days after today ~ 30 days after today). But because we only have data for 2 months, we have to cut down the time period a little bit....\n",
    "\n",
    "We would like to predict the churn activities for a \"further\" future not for tomorrow because we would want to have some time to act (like running rentention campaigns).\n",
    "\n",
    "When we train the model, imagine that we collect the customer activity data today. We will use the data in the past 7 days to calculate the \"training y\" and use the data from day1 till 14 days before. If, in real life, we have data for longer period, we can roll the performance measuring window to get more training data points."
   ]
  },
  {
   "cell_type": "code",
   "execution_count": 11,
   "metadata": {},
   "outputs": [
    {
     "data": {
      "text/html": [
       "<style scoped>\n",
       "  .ansiout {\n",
       "    display: block;\n",
       "    unicode-bidi: embed;\n",
       "    white-space: pre-wrap;\n",
       "    word-wrap: break-word;\n",
       "    word-break: break-all;\n",
       "    font-family: \"Source Code Pro\", \"Menlo\", monospace;;\n",
       "    font-size: 13px;\n",
       "    color: #555;\n",
       "    margin-left: 4px;\n",
       "    line-height: 19px;\n",
       "  }\n",
       "</style>\n",
       "<div class=\"ansiout\"></div>"
      ]
     },
     "metadata": {},
     "output_type": "display_data"
    }
   ],
   "source": [
    "last_status = user_activities\\\n",
    "              .withColumn('rownum', F.row_number().over(Window.partitionBy(\"userId\").orderBy(F.col('time').desc())))\\\n",
    "              .filter('rownum==1')\\\n",
    "              .select('userId',\n",
    "                      F.when(F.col('page')=='Cancel', 1)\\\n",
    "                       .when(F.col('page')=='Submit Downgrade', 1)\\\n",
    "                       .otherwise(0).alias('last_status_cancelled'))"
   ]
  },
  {
   "cell_type": "code",
   "execution_count": 12,
   "metadata": {},
   "outputs": [
    {
     "data": {
      "text/html": [
       "<style scoped>\n",
       "  .ansiout {\n",
       "    display: block;\n",
       "    unicode-bidi: embed;\n",
       "    white-space: pre-wrap;\n",
       "    word-wrap: break-word;\n",
       "    word-break: break-all;\n",
       "    font-family: \"Source Code Pro\", \"Menlo\", monospace;;\n",
       "    font-size: 13px;\n",
       "    color: #555;\n",
       "    margin-left: 4px;\n",
       "    line-height: 19px;\n",
       "  }\n",
       "</style>\n",
       "<div class=\"ansiout\">22277\n",
       "22277\n",
       "</div>"
      ]
     },
     "metadata": {},
     "output_type": "display_data"
    }
   ],
   "source": [
    "print(last_status.count())\n",
    "print(last_status.select('userId').distinct().count())"
   ]
  },
  {
   "cell_type": "code",
   "execution_count": 13,
   "metadata": {},
   "outputs": [
    {
     "data": {
      "text/html": [
       "<style scoped>\n",
       "  .table-result-container {\n",
       "    max-height: 300px;\n",
       "    overflow: auto;\n",
       "  }\n",
       "  table, th, td {\n",
       "    border: 1px solid black;\n",
       "    border-collapse: collapse;\n",
       "  }\n",
       "  th, td {\n",
       "    padding: 5px;\n",
       "  }\n",
       "  th {\n",
       "    text-align: left;\n",
       "  }\n",
       "</style><div class='table-result-container'><table class='table-result'><thead style='background-color: white'><tr><th>userId</th><th>registration</th><th>registration_ts</th><th>level</th><th>time</th><th>timestamp</th><th>time_in_the_day</th><th>sessionId</th><th>itemInSession</th><th>page</th><th>artist</th><th>singer-song</th><th>length</th><th>days_since_registration</th><th>days_before_today</th><th>rownum</th></tr></thead><tbody></tbody></table></div>"
      ]
     },
     "metadata": {},
     "output_type": "display_data"
    }
   ],
   "source": [
    "display(user_activities\\\n",
    "              .withColumn('rownum', F.row_number().over(Window.partitionBy(\"userId\").orderBy(F.col('time').desc())))\\\n",
    "              .filter(\"rownum!=1 and page='Cancel'\"))"
   ]
  },
  {
   "cell_type": "code",
   "execution_count": 14,
   "metadata": {},
   "outputs": [
    {
     "data": {
      "text/html": [
       "<style scoped>\n",
       "  .ansiout {\n",
       "    display: block;\n",
       "    unicode-bidi: embed;\n",
       "    white-space: pre-wrap;\n",
       "    word-wrap: break-word;\n",
       "    word-break: break-all;\n",
       "    font-family: \"Source Code Pro\", \"Menlo\", monospace;;\n",
       "    font-size: 13px;\n",
       "    color: #555;\n",
       "    margin-left: 4px;\n",
       "    line-height: 19px;\n",
       "  }\n",
       "</style>\n",
       "<div class=\"ansiout\"></div>"
      ]
     },
     "metadata": {},
     "output_type": "display_data"
    }
   ],
   "source": [
    "churned = last_status.filter(\"last_status_cancelled = 1\")"
   ]
  },
  {
   "cell_type": "code",
   "execution_count": 15,
   "metadata": {},
   "outputs": [
    {
     "data": {
      "text/html": [
       "<style scoped>\n",
       "  .ansiout {\n",
       "    display: block;\n",
       "    unicode-bidi: embed;\n",
       "    white-space: pre-wrap;\n",
       "    word-wrap: break-word;\n",
       "    word-break: break-all;\n",
       "    font-family: \"Source Code Pro\", \"Menlo\", monospace;;\n",
       "    font-size: 13px;\n",
       "    color: #555;\n",
       "    margin-left: 4px;\n",
       "    line-height: 19px;\n",
       "  }\n",
       "</style>\n",
       "<div class=\"ansiout\">Churn rate: 22.47%\n",
       "</div>"
      ]
     },
     "metadata": {},
     "output_type": "display_data"
    }
   ],
   "source": [
    "print(\"Churn rate: {:.2%}\".format(churned.count()/user_activities.select('userId').distinct().count()))"
   ]
  },
  {
   "cell_type": "markdown",
   "metadata": {},
   "source": [
    "# Prepare training data\n",
    "\n",
    "In this section we will prepare the data for modeling."
   ]
  },
  {
   "cell_type": "code",
   "execution_count": 17,
   "metadata": {},
   "outputs": [],
   "source": [
    "%run Users/tw2567@columbia.edu/Udacity/churn_prediction/util"
   ]
  },
  {
   "cell_type": "code",
   "execution_count": 18,
   "metadata": {},
   "outputs": [
    {
     "data": {
      "text/html": [
       "<style scoped>\n",
       "  .ansiout {\n",
       "    display: block;\n",
       "    unicode-bidi: embed;\n",
       "    white-space: pre-wrap;\n",
       "    word-wrap: break-word;\n",
       "    word-break: break-all;\n",
       "    font-family: \"Source Code Pro\", \"Menlo\", monospace;;\n",
       "    font-size: 13px;\n",
       "    color: #555;\n",
       "    margin-left: 4px;\n",
       "    line-height: 19px;\n",
       "  }\n",
       "</style>\n",
       "<div class=\"ansiout\">Numbers of rows in the data: 26,259,199\n",
       "Numbers of rows with N/A user Ids: 0\n",
       "Numbers of unique customers: 22,278\n",
       "</div>"
      ]
     },
     "metadata": {},
     "output_type": "display_data"
    }
   ],
   "source": [
    "dp = DataPreparation(df)"
   ]
  },
  {
   "cell_type": "code",
   "execution_count": 19,
   "metadata": {},
   "outputs": [
    {
     "data": {
      "text/html": [
       "<style scoped>\n",
       "  .ansiout {\n",
       "    display: block;\n",
       "    unicode-bidi: embed;\n",
       "    white-space: pre-wrap;\n",
       "    word-wrap: break-word;\n",
       "    word-break: break-all;\n",
       "    font-family: \"Source Code Pro\", \"Menlo\", monospace;;\n",
       "    font-size: 13px;\n",
       "    color: #555;\n",
       "    margin-left: 4px;\n",
       "    line-height: 19px;\n",
       "  }\n",
       "</style>\n",
       "<div class=\"ansiout\"></div>"
      ]
     },
     "metadata": {},
     "output_type": "display_data"
    }
   ],
   "source": [
    "featues = dp.run()"
   ]
  },
  {
   "cell_type": "markdown",
   "metadata": {},
   "source": [
    "Investigate whether any customer has null static features."
   ]
  },
  {
   "cell_type": "code",
   "execution_count": 21,
   "metadata": {},
   "outputs": [
    {
     "data": {
      "text/html": [
       "<style scoped>\n",
       "  .ansiout {\n",
       "    display: block;\n",
       "    unicode-bidi: embed;\n",
       "    white-space: pre-wrap;\n",
       "    word-wrap: break-word;\n",
       "    word-break: break-all;\n",
       "    font-family: \"Source Code Pro\", \"Menlo\", monospace;;\n",
       "    font-size: 13px;\n",
       "    color: #555;\n",
       "    margin-left: 4px;\n",
       "    line-height: 19px;\n",
       "  }\n",
       "</style>\n",
       "<div class=\"ansiout\">+------+------------+\n",
       "female|customer_age|\n",
       "+------+------------+\n",
       "     0|           1|\n",
       "+------+------------+\n",
       "\n",
       "</div>"
      ]
     },
     "metadata": {},
     "output_type": "display_data"
    }
   ],
   "source": [
    "featues.select([F.count(F.when(F.col(c).isNull(), c)).alias(c) for c in ['female','customer_age']]).show()"
   ]
  },
  {
   "cell_type": "code",
   "execution_count": 22,
   "metadata": {},
   "outputs": [
    {
     "data": {
      "text/html": [
       "<style scoped>\n",
       "  .table-result-container {\n",
       "    max-height: 300px;\n",
       "    overflow: auto;\n",
       "  }\n",
       "  table, th, td {\n",
       "    border: 1px solid black;\n",
       "    border-collapse: collapse;\n",
       "  }\n",
       "  th, td {\n",
       "    padding: 5px;\n",
       "  }\n",
       "  th {\n",
       "    text-align: left;\n",
       "  }\n",
       "</style><div class='table-result-container'><table class='table-result'><thead style='background-color: white'><tr><th>userId</th><th>female</th><th>state_AZ</th><th>state_SC</th><th>state_LA</th><th>state_MN</th><th>state_NJ</th><th>state_DC</th><th>state_OR</th><th>state_VA</th><th>state_RI</th><th>state_KY</th><th>state_WY</th><th>state_NH</th><th>state_MI</th><th>state_NV</th><th>state_WI</th><th>state_ID</th><th>state_CA</th><th>state_CT</th><th>state_NE</th><th>state_MT</th><th>state_NC</th><th>state_VT</th><th>state_MD</th><th>state_DE</th><th>state_MO</th><th>state_IL</th><th>state_ME</th><th>state_WA</th><th>state_ND</th><th>state_MS</th><th>state_AL</th><th>state_IN</th><th>state_OH</th><th>state_TN</th><th>state_IA</th><th>state_NM</th><th>state_PA</th><th>state_SD</th><th>state_NY</th><th>state_TX</th><th>state_WV</th><th>state_GA</th><th>state_MA</th><th>state_KS</th><th>state_FL</th><th>state_CO</th><th>state_AK</th><th>state_AR</th><th>state_OK</th><th>state_UT</th><th>state_HI</th><th>customer_age</th><th>agent_Firefox</th><th>agent_Mozilla</th><th>agent_Safari</th><th>agent_Gecko</th><th>agent_GSA</th><th>agent_Version</th><th>agent_Chromium</th><th>agent_Ubuntu</th><th>agent_AppleWebKit</th><th>agent_Mobile</th><th>agent_Chrome</th><th>sessions</th><th>items</th><th>active_days</th><th>active_time</th><th>sessions_per_day</th><th>time_per_day</th><th>avg_items_per_session</th><th>time_per_session</th><th>perc_1_6</th><th>perc_6_12</th><th>perc_12_18</th><th>perc_18_1</th><th>unique_songs</th><th>unique_artists</th><th>max_song_perc</th><th>numbers_thup</th><th>numbers_thdn</th><th>numbers_addlist</th><th>numbers_addfrd</th><th>numbers_error</th><th>perc_thup</th><th>perc_thdn</th><th>perc_addlist</th><th>perc_addfrd</th><th>perc_popular_songs</th><th>last_status_paid</th><th>paid_days</th><th>perc_paid_days</th></tr></thead><tbody><tr><td>1261737</td><td>0</td><td>null</td><td>null</td><td>null</td><td>null</td><td>null</td><td>null</td><td>null</td><td>null</td><td>null</td><td>null</td><td>null</td><td>null</td><td>null</td><td>null</td><td>null</td><td>null</td><td>null</td><td>null</td><td>null</td><td>null</td><td>null</td><td>null</td><td>null</td><td>null</td><td>null</td><td>null</td><td>null</td><td>null</td><td>null</td><td>null</td><td>null</td><td>null</td><td>null</td><td>null</td><td>null</td><td>null</td><td>null</td><td>null</td><td>null</td><td>null</td><td>null</td><td>null</td><td>null</td><td>null</td><td>null</td><td>null</td><td>null</td><td>null</td><td>null</td><td>null</td><td>null</td><td>null</td><td>null</td><td>null</td><td>null</td><td>null</td><td>null</td><td>null</td><td>null</td><td>null</td><td>null</td><td>null</td><td>null</td><td>null</td><td>null</td><td>null</td><td>null</td><td>null</td><td>null</td><td>null</td><td>null</td><td>null</td><td>null</td><td>null</td><td>null</td><td>null</td><td>null</td><td>null</td><td>null</td><td>null</td><td>null</td><td>null</td><td>null</td><td>null</td><td>null</td><td>null</td><td>null</td><td>null</td><td>null</td><td>null</td><td>null</td></tr></tbody></table></div>"
      ]
     },
     "metadata": {},
     "output_type": "display_data"
    }
   ],
   "source": [
    "display(featues.filter(\"customer_age is Null\"))"
   ]
  },
  {
   "cell_type": "code",
   "execution_count": 23,
   "metadata": {},
   "outputs": [
    {
     "data": {
      "text/html": [
       "<style scoped>\n",
       "  .table-result-container {\n",
       "    max-height: 300px;\n",
       "    overflow: auto;\n",
       "  }\n",
       "  table, th, td {\n",
       "    border: 1px solid black;\n",
       "    border-collapse: collapse;\n",
       "  }\n",
       "  th, td {\n",
       "    padding: 5px;\n",
       "  }\n",
       "  th {\n",
       "    text-align: left;\n",
       "  }\n",
       "</style><div class='table-result-container'><table class='table-result'><thead style='background-color: white'><tr><th>artist</th><th>auth</th><th>firstName</th><th>gender</th><th>itemInSession</th><th>lastName</th><th>length</th><th>level</th><th>location</th><th>method</th><th>page</th><th>registration</th><th>sessionId</th><th>song</th><th>status</th><th>ts</th><th>userAgent</th><th>userId</th></tr></thead><tbody><tr><td>null</td><td>Logged Out</td><td>null</td><td>null</td><td>87</td><td>null</td><td>null</td><td>paid</td><td>null</td><td>GET</td><td>Home</td><td>null</td><td>8615</td><td>null</td><td>200</td><td>1538352008000</td><td>null</td><td>1261737</td></tr><tr><td>null</td><td>Logged Out</td><td>null</td><td>null</td><td>0</td><td>null</td><td>null</td><td>free</td><td>null</td><td>PUT</td><td>Login</td><td>null</td><td>7433</td><td>null</td><td>307</td><td>1538352041000</td><td>null</td><td>1261737</td></tr><tr><td>null</td><td>Logged Out</td><td>null</td><td>null</td><td>4</td><td>null</td><td>null</td><td>free</td><td>null</td><td>GET</td><td>Home</td><td>null</td><td>25003</td><td>null</td><td>200</td><td>1538352182000</td><td>null</td><td>1261737</td></tr><tr><td>null</td><td>Logged Out</td><td>null</td><td>null</td><td>2</td><td>null</td><td>null</td><td>free</td><td>null</td><td>GET</td><td>Home</td><td>null</td><td>9930</td><td>null</td><td>200</td><td>1538352254000</td><td>null</td><td>1261737</td></tr><tr><td>null</td><td>Logged Out</td><td>null</td><td>null</td><td>3</td><td>null</td><td>null</td><td>free</td><td>null</td><td>PUT</td><td>Login</td><td>null</td><td>9930</td><td>null</td><td>307</td><td>1538352255000</td><td>null</td><td>1261737</td></tr><tr><td>null</td><td>Logged Out</td><td>null</td><td>null</td><td>0</td><td>null</td><td>null</td><td>free</td><td>null</td><td>PUT</td><td>Login</td><td>null</td><td>23471</td><td>null</td><td>307</td><td>1538352259000</td><td>null</td><td>1261737</td></tr><tr><td>null</td><td>Logged Out</td><td>null</td><td>null</td><td>44</td><td>null</td><td>null</td><td>free</td><td>null</td><td>GET</td><td>Home</td><td>null</td><td>6317</td><td>null</td><td>200</td><td>1538352278000</td><td>null</td><td>1261737</td></tr><tr><td>null</td><td>Logged Out</td><td>null</td><td>null</td><td>43</td><td>null</td><td>null</td><td>free</td><td>null</td><td>GET</td><td>Home</td><td>null</td><td>22951</td><td>null</td><td>200</td><td>1538352361000</td><td>null</td><td>1261737</td></tr><tr><td>null</td><td>Logged Out</td><td>null</td><td>null</td><td>44</td><td>null</td><td>null</td><td>free</td><td>null</td><td>GET</td><td>Home</td><td>null</td><td>22951</td><td>null</td><td>200</td><td>1538352365000</td><td>null</td><td>1261737</td></tr><tr><td>null</td><td>Logged Out</td><td>null</td><td>null</td><td>95</td><td>null</td><td>null</td><td>paid</td><td>null</td><td>GET</td><td>Home</td><td>null</td><td>6071</td><td>null</td><td>200</td><td>1538352404000</td><td>null</td><td>1261737</td></tr></tbody></table></div>"
      ]
     },
     "metadata": {},
     "output_type": "display_data"
    }
   ],
   "source": [
    "display(df.filter(\"userId = 1261737\").limit(10))"
   ]
  },
  {
   "cell_type": "markdown",
   "metadata": {},
   "source": [
    "Actually the customer with the ID 1261737 seems wierd."
   ]
  },
  {
   "cell_type": "code",
   "execution_count": 25,
   "metadata": {},
   "outputs": [
    {
     "data": {
      "text/html": [
       "<style scoped>\n",
       "  .table-result-container {\n",
       "    max-height: 300px;\n",
       "    overflow: auto;\n",
       "  }\n",
       "  table, th, td {\n",
       "    border: 1px solid black;\n",
       "    border-collapse: collapse;\n",
       "  }\n",
       "  th, td {\n",
       "    padding: 5px;\n",
       "  }\n",
       "  th {\n",
       "    text-align: left;\n",
       "  }\n",
       "</style><div class='table-result-container'><table class='table-result'><thead style='background-color: white'><tr><th>userId</th><th>female</th><th>state_AZ</th><th>state_SC</th><th>state_LA</th><th>state_MN</th><th>state_NJ</th><th>state_DC</th><th>state_OR</th><th>state_VA</th><th>state_RI</th><th>state_KY</th><th>state_WY</th><th>state_NH</th><th>state_MI</th><th>state_NV</th><th>state_WI</th><th>state_ID</th><th>state_CA</th><th>state_CT</th><th>state_NE</th><th>state_MT</th><th>state_NC</th><th>state_VT</th><th>state_MD</th><th>state_DE</th><th>state_MO</th><th>state_IL</th><th>state_ME</th><th>state_WA</th><th>state_ND</th><th>state_MS</th><th>state_AL</th><th>state_IN</th><th>state_OH</th><th>state_TN</th><th>state_IA</th><th>state_NM</th><th>state_PA</th><th>state_SD</th><th>state_NY</th><th>state_TX</th><th>state_WV</th><th>state_GA</th><th>state_MA</th><th>state_KS</th><th>state_FL</th><th>state_CO</th><th>state_AK</th><th>state_AR</th><th>state_OK</th><th>state_UT</th><th>state_HI</th><th>customer_age</th><th>agent_Firefox</th><th>agent_Mozilla</th><th>agent_Safari</th><th>agent_Gecko</th><th>agent_GSA</th><th>agent_Version</th><th>agent_Chromium</th><th>agent_Ubuntu</th><th>agent_AppleWebKit</th><th>agent_Mobile</th><th>agent_Chrome</th><th>sessions</th><th>items</th><th>active_days</th><th>active_time</th><th>sessions_per_day</th><th>time_per_day</th><th>avg_items_per_session</th><th>time_per_session</th><th>perc_1_6</th><th>perc_6_12</th><th>perc_12_18</th><th>perc_18_1</th><th>unique_songs</th><th>unique_artists</th><th>max_song_perc</th><th>numbers_thup</th><th>numbers_thdn</th><th>numbers_addlist</th><th>numbers_addfrd</th><th>numbers_error</th><th>perc_thup</th><th>perc_thdn</th><th>perc_addlist</th><th>perc_addfrd</th><th>perc_popular_songs</th><th>last_status_paid</th><th>paid_days</th><th>perc_paid_days</th></tr></thead><tbody><tr><td>1000280</td><td>0</td><td>0</td><td>0</td><td>0</td><td>0</td><td>0</td><td>0</td><td>0</td><td>0</td><td>0</td><td>0</td><td>0</td><td>0</td><td>0</td><td>0</td><td>0</td><td>0</td><td>0</td><td>0</td><td>0</td><td>0</td><td>0</td><td>0</td><td>0</td><td>0</td><td>0</td><td>0</td><td>0</td><td>0</td><td>0</td><td>0</td><td>0</td><td>0</td><td>1</td><td>0</td><td>0</td><td>0</td><td>0</td><td>0</td><td>0</td><td>0</td><td>0</td><td>0</td><td>0</td><td>0</td><td>0</td><td>0</td><td>0</td><td>0</td><td>0</td><td>0</td><td>0</td><td>95</td><td>1</td><td>1</td><td>0</td><td>1</td><td>0</td><td>0</td><td>0</td><td>0</td><td>0</td><td>0</td><td>0</td><td>22</td><td>1316</td><td>21</td><td>257231000</td><td>1.1428571428571428</td><td>1.2226666666666666E7</td><td>59.81818181818182</td><td>1.1692318181818182E7</td><td>0.27337375877553605</td><td>0.07540636265890835</td><td>0.356836221617861</td><td>0.29438365694769464</td><td>948</td><td>767</td><td>0.00806426022179331</td><td>53</td><td>33</td><td>25</td><td>14</td><td>3</td><td>0.04027355623100304</td><td>0.02507598784194529</td><td>0.018996960486322188</td><td>0.010638297872340425</td><td>0.16046966731898238</td><td>0</td><td>1</td><td>0.045454545454545456</td></tr><tr><td>1002185</td><td>1</td><td>0</td><td>0</td><td>0</td><td>0</td><td>0</td><td>0</td><td>0</td><td>0</td><td>0</td><td>0</td><td>0</td><td>1</td><td>0</td><td>0</td><td>0</td><td>0</td><td>0</td><td>0</td><td>0</td><td>0</td><td>0</td><td>0</td><td>0</td><td>0</td><td>0</td><td>0</td><td>0</td><td>0</td><td>0</td><td>0</td><td>0</td><td>0</td><td>0</td><td>0</td><td>0</td><td>0</td><td>0</td><td>0</td><td>0</td><td>0</td><td>0</td><td>0</td><td>1</td><td>0</td><td>0</td><td>0</td><td>0</td><td>0</td><td>0</td><td>0</td><td>0</td><td>68</td><td>0</td><td>1</td><td>1</td><td>0</td><td>0</td><td>0</td><td>0</td><td>0</td><td>1</td><td>0</td><td>1</td><td>17</td><td>2080</td><td>21</td><td>443434000</td><td>1.0952380952380953</td><td>2.103909523809524E7</td><td>122.3529411764706</td><td>2.608435294117647E7</td><td>0.23289086863770825</td><td>0.22848455268904425</td><td>0.2889402157101318</td><td>0.24968436296311572</td><td>1582</td><td>1205</td><td>0.007399086752101751</td><td>92</td><td>14</td><td>49</td><td>25</td><td>2</td><td>0.04423076923076923</td><td>0.006730769230769231</td><td>0.023557692307692307</td><td>0.01201923076923077</td><td>0.15748031496062992</td><td>1</td><td>21</td><td>1.0</td></tr><tr><td>1017805</td><td>1</td><td>0</td><td>1</td><td>0</td><td>0</td><td>0</td><td>0</td><td>0</td><td>0</td><td>0</td><td>0</td><td>0</td><td>0</td><td>0</td><td>0</td><td>0</td><td>0</td><td>0</td><td>0</td><td>0</td><td>0</td><td>0</td><td>0</td><td>0</td><td>0</td><td>0</td><td>0</td><td>0</td><td>0</td><td>0</td><td>0</td><td>0</td><td>0</td><td>0</td><td>0</td><td>0</td><td>0</td><td>0</td><td>0</td><td>0</td><td>0</td><td>0</td><td>1</td><td>0</td><td>0</td><td>0</td><td>0</td><td>0</td><td>0</td><td>0</td><td>0</td><td>0</td><td>90</td><td>0</td><td>1</td><td>1</td><td>0</td><td>0</td><td>1</td><td>0</td><td>0</td><td>1</td><td>0</td><td>0</td><td>3</td><td>320</td><td>4</td><td>63410000</td><td>1.0</td><td>1.578475E7</td><td>106.66666666666667</td><td>2.1136666666666668E7</td><td>0.25327994682450505</td><td>0.0</td><td>0.5325304255622201</td><td>0.21418962761327487</td><td>245</td><td>223</td><td>0.011018552257797272</td><td>7</td><td>4</td><td>5</td><td>13</td><td>0</td><td>0.021875</td><td>0.0125</td><td>0.015625</td><td>0.040625</td><td>0.14</td><td>1</td><td>4</td><td>1.0</td></tr><tr><td>1030587</td><td>1</td><td>0</td><td>0</td><td>0</td><td>0</td><td>0</td><td>0</td><td>0</td><td>0</td><td>0</td><td>0</td><td>0</td><td>0</td><td>0</td><td>0</td><td>0</td><td>1</td><td>0</td><td>0</td><td>0</td><td>0</td><td>0</td><td>0</td><td>0</td><td>0</td><td>0</td><td>0</td><td>0</td><td>0</td><td>0</td><td>0</td><td>0</td><td>0</td><td>0</td><td>0</td><td>0</td><td>0</td><td>0</td><td>0</td><td>0</td><td>0</td><td>0</td><td>0</td><td>0</td><td>0</td><td>0</td><td>0</td><td>0</td><td>0</td><td>0</td><td>0</td><td>0</td><td>133</td><td>0</td><td>1</td><td>1</td><td>0</td><td>0</td><td>0</td><td>0</td><td>0</td><td>1</td><td>0</td><td>1</td><td>11</td><td>1752</td><td>13</td><td>362380000</td><td>1.1538461538461537</td><td>2.7668769230769232E7</td><td>159.27272727272728</td><td>3.2943636363636363E7</td><td>0.35346876229185786</td><td>0.2864494558804248</td><td>0.15136808378130326</td><td>0.20871369804641404</td><td>1345</td><td>1071</td><td>0.00900083941476212</td><td>66</td><td>16</td><td>46</td><td>23</td><td>1</td><td>0.03767123287671233</td><td>0.0091324200913242</td><td>0.026255707762557076</td><td>0.013127853881278538</td><td>0.14130434782608695</td><td>1</td><td>12</td><td>0.8571428571428571</td></tr><tr><td>1033297</td><td>0</td><td>0</td><td>0</td><td>0</td><td>0</td><td>0</td><td>0</td><td>0</td><td>0</td><td>0</td><td>0</td><td>0</td><td>0</td><td>0</td><td>0</td><td>0</td><td>0</td><td>0</td><td>0</td><td>0</td><td>0</td><td>0</td><td>0</td><td>0</td><td>0</td><td>0</td><td>1</td><td>0</td><td>0</td><td>0</td><td>0</td><td>0</td><td>0</td><td>0</td><td>0</td><td>0</td><td>0</td><td>0</td><td>0</td><td>0</td><td>0</td><td>0</td><td>0</td><td>0</td><td>0</td><td>0</td><td>0</td><td>0</td><td>0</td><td>0</td><td>0</td><td>0</td><td>120</td><td>1</td><td>1</td><td>0</td><td>1</td><td>0</td><td>0</td><td>0</td><td>0</td><td>0</td><td>0</td><td>0</td><td>5</td><td>299</td><td>6</td><td>59105000</td><td>1.0</td><td>9821000.0</td><td>59.8</td><td>1.1821E7</td><td>0.17523205023205024</td><td>0.07725907725907726</td><td>0.3840601965601966</td><td>0.36344867594867597</td><td>234</td><td>215</td><td>0.016470209486091937</td><td>10</td><td>3</td><td>7</td><td>4</td><td>0</td><td>0.033444816053511704</td><td>0.010033444816053512</td><td>0.023411371237458192</td><td>0.013377926421404682</td><td>0.1652542372881356</td><td>1</td><td>2</td><td>0.2857142857142857</td></tr><tr><td>1057724</td><td>0</td><td>0</td><td>0</td><td>0</td><td>0</td><td>1</td><td>0</td><td>0</td><td>0</td><td>0</td><td>0</td><td>0</td><td>0</td><td>0</td><td>0</td><td>0</td><td>0</td><td>0</td><td>0</td><td>0</td><td>0</td><td>0</td><td>0</td><td>0</td><td>0</td><td>0</td><td>0</td><td>0</td><td>0</td><td>0</td><td>0</td><td>0</td><td>0</td><td>0</td><td>0</td><td>0</td><td>0</td><td>1</td><td>0</td><td>1</td><td>0</td><td>0</td><td>0</td><td>0</td><td>0</td><td>0</td><td>0</td><td>0</td><td>0</td><td>0</td><td>0</td><td>0</td><td>98</td><td>0</td><td>1</td><td>1</td><td>0</td><td>0</td><td>0</td><td>0</td><td>0</td><td>1</td><td>0</td><td>1</td><td>40</td><td>4669</td><td>41</td><td>953791000</td><td>1.2195121951219512</td><td>2.3195975609756097E7</td><td>116.725</td><td>2.3844775E7</td><td>0.17366028426461722</td><td>0.2748881677045873</td><td>0.2990831371675157</td><td>0.2523684108632797</td><td>3190</td><td>2157</td><td>0.009595024447421621</td><td>200</td><td>29</td><td>135</td><td>76</td><td>1</td><td>0.04283572499464553</td><td>0.006211180124223602</td><td>0.028914114371385736</td><td>0.016277575497965303</td><td>0.16246425786327007</td><td>1</td><td>24</td><td>0.5714285714285714</td></tr><tr><td>1059049</td><td>0</td><td>0</td><td>0</td><td>0</td><td>0</td><td>0</td><td>0</td><td>0</td><td>0</td><td>0</td><td>0</td><td>0</td><td>0</td><td>0</td><td>0</td><td>0</td><td>0</td><td>1</td><td>0</td><td>0</td><td>0</td><td>0</td><td>0</td><td>0</td><td>0</td><td>0</td><td>0</td><td>0</td><td>0</td><td>0</td><td>0</td><td>0</td><td>0</td><td>0</td><td>0</td><td>0</td><td>0</td><td>0</td><td>0</td><td>0</td><td>0</td><td>0</td><td>0</td><td>0</td><td>0</td><td>0</td><td>0</td><td>0</td><td>0</td><td>0</td><td>0</td><td>0</td><td>143</td><td>0</td><td>1</td><td>1</td><td>0</td><td>0</td><td>0</td><td>0</td><td>0</td><td>1</td><td>0</td><td>1</td><td>5</td><td>662</td><td>5</td><td>140598000</td><td>1.2</td><td>2.80482E7</td><td>132.4</td><td>2.81196E7</td><td>0.503600432737259</td><td>0.16671643471492698</td><td>0.20805654955673802</td><td>0.12162658299107602</td><td>535</td><td>454</td><td>0.01852620233627137</td><td>29</td><td>6</td><td>16</td><td>10</td><td>0</td><td>0.04380664652567976</td><td>0.00906344410876133</td><td>0.02416918429003021</td><td>0.015105740181268883</td><td>0.16279069767441862</td><td>1</td><td>5</td><td>1.0</td></tr><tr><td>1069552</td><td>1</td><td>0</td><td>0</td><td>0</td><td>0</td><td>0</td><td>0</td><td>0</td><td>0</td><td>0</td><td>0</td><td>0</td><td>0</td><td>0</td><td>0</td><td>0</td><td>0</td><td>1</td><td>0</td><td>0</td><td>0</td><td>0</td><td>0</td><td>0</td><td>0</td><td>0</td><td>0</td><td>0</td><td>0</td><td>0</td><td>0</td><td>0</td><td>0</td><td>0</td><td>0</td><td>0</td><td>0</td><td>0</td><td>0</td><td>0</td><td>0</td><td>0</td><td>0</td><td>0</td><td>0</td><td>0</td><td>0</td><td>0</td><td>0</td><td>0</td><td>0</td><td>0</td><td>129</td><td>0</td><td>1</td><td>1</td><td>0</td><td>0</td><td>0</td><td>0</td><td>0</td><td>1</td><td>0</td><td>1</td><td>12</td><td>582</td><td>11</td><td>111581000</td><td>1.0909090909090908</td><td>1.0143727272727273E7</td><td>48.5</td><td>9298416.666666666</td><td>0.11670071501532175</td><td>0.26314205457463885</td><td>0.5229370348752371</td><td>0.09722019553480228</td><td>442</td><td>389</td><td>0.012963855118767777</td><td>26</td><td>6</td><td>11</td><td>7</td><td>1</td><td>0.044673539518900345</td><td>0.010309278350515464</td><td>0.018900343642611683</td><td>0.012027491408934709</td><td>0.15604395604395604</td><td>0</td><td>3</td><td>0.23076923076923078</td></tr><tr><td>1071308</td><td>1</td><td>0</td><td>0</td><td>0</td><td>0</td><td>0</td><td>0</td><td>0</td><td>0</td><td>0</td><td>0</td><td>0</td><td>0</td><td>0</td><td>0</td><td>1</td><td>0</td><td>0</td><td>0</td><td>0</td><td>0</td><td>0</td><td>0</td><td>0</td><td>0</td><td>0</td><td>0</td><td>0</td><td>0</td><td>0</td><td>0</td><td>0</td><td>0</td><td>0</td><td>0</td><td>0</td><td>0</td><td>0</td><td>0</td><td>0</td><td>0</td><td>0</td><td>0</td><td>0</td><td>0</td><td>0</td><td>0</td><td>0</td><td>0</td><td>0</td><td>0</td><td>0</td><td>85</td><td>1</td><td>1</td><td>0</td><td>1</td><td>0</td><td>0</td><td>0</td><td>0</td><td>0</td><td>0</td><td>0</td><td>18</td><td>1692</td><td>20</td><td>348022000</td><td>1.1</td><td>1.735705E7</td><td>94.0</td><td>1.9334555555555556E7</td><td>0.25355371803997034</td><td>0.26257824330776236</td><td>0.2769571444890642</td><td>0.20691089416320302</td><td>1272</td><td>1007</td><td>0.00889088020133906</td><td>74</td><td>12</td><td>26</td><td>31</td><td>1</td><td>0.04373522458628842</td><td>0.0070921985815602835</td><td>0.015366430260047281</td><td>0.018321513002364065</td><td>0.16181689141234917</td><td>1</td><td>20</td><td>0.9523809523809523</td></tr><tr><td>1076191</td><td>0</td><td>0</td><td>0</td><td>0</td><td>0</td><td>0</td><td>0</td><td>0</td><td>0</td><td>0</td><td>0</td><td>0</td><td>0</td><td>0</td><td>0</td><td>0</td><td>0</td><td>1</td><td>0</td><td>0</td><td>0</td><td>0</td><td>0</td><td>0</td><td>0</td><td>0</td><td>0</td><td>0</td><td>0</td><td>0</td><td>0</td><td>0</td><td>0</td><td>0</td><td>0</td><td>0</td><td>0</td><td>0</td><td>0</td><td>0</td><td>0</td><td>0</td><td>0</td><td>0</td><td>0</td><td>0</td><td>0</td><td>0</td><td>0</td><td>0</td><td>0</td><td>0</td><td>74</td><td>0</td><td>1</td><td>0</td><td>1</td><td>0</td><td>0</td><td>0</td><td>0</td><td>0</td><td>0</td><td>0</td><td>3</td><td>63</td><td>3</td><td>15384000</td><td>1.0</td><td>5128000.0</td><td>21.0</td><td>5128000.0</td><td>0.0</td><td>0.0</td><td>0.1884526558891455</td><td>0.8115473441108545</td><td>47</td><td>47</td><td>0.1176331016994726</td><td>4</td><td>1</td><td>1</td><td>0</td><td>0</td><td>0.06349206349206349</td><td>0.015873015873015872</td><td>0.015873015873015872</td><td>0.0</td><td>0.1276595744680851</td><td>0</td><td>0</td><td>0.0</td></tr><tr><td>1083324</td><td>0</td><td>0</td><td>0</td><td>0</td><td>0</td><td>0</td><td>0</td><td>0</td><td>0</td><td>0</td><td>0</td><td>0</td><td>0</td><td>0</td><td>0</td><td>0</td><td>0</td><td>0</td><td>0</td><td>0</td><td>0</td><td>0</td><td>0</td><td>0</td><td>0</td><td>0</td><td>0</td><td>0</td><td>0</td><td>0</td><td>0</td><td>0</td><td>0</td><td>0</td><td>0</td><td>0</td><td>0</td><td>0</td><td>0</td><td>0</td><td>0</td><td>0</td><td>0</td><td>0</td><td>0</td><td>1</td><td>0</td><td>0</td><td>0</td><td>0</td><td>0</td><td>0</td><td>150</td><td>0</td><td>1</td><td>1</td><td>0</td><td>0</td><td>1</td><td>0</td><td>0</td><td>1</td><td>1</td><td>0</td><td>20</td><td>1784</td><td>22</td><td>360811000</td><td>1.1363636363636365</td><td>1.6332409090909092E7</td><td>89.2</td><td>1.804055E7</td><td>0.1536596835776108</td><td>0.24195507832181926</td><td>0.31165254000067183</td><td>0.2927326980998981</td><td>1358</td><td>1061</td><td>0.005893707885154891</td><td>75</td><td>11</td><td>43</td><td>26</td><td>2</td><td>0.04204035874439462</td><td>0.00616591928251121</td><td>0.024103139013452915</td><td>0.014573991031390135</td><td>0.1495956873315364</td><td>1</td><td>20</td><td>0.8</td></tr><tr><td>1102913</td><td>0</td><td>0</td><td>0</td><td>0</td><td>0</td><td>1</td><td>0</td><td>0</td><td>0</td><td>0</td><td>0</td><td>0</td><td>0</td><td>0</td><td>0</td><td>0</td><td>0</td><td>0</td><td>0</td><td>0</td><td>0</td><td>0</td><td>0</td><td>0</td><td>0</td><td>0</td><td>0</td><td>0</td><td>0</td><td>0</td><td>0</td><td>0</td><td>0</td><td>0</td><td>0</td><td>0</td><td>0</td><td>1</td><td>0</td><td>1</td><td>0</td><td>0</td><td>0</td><td>0</td><td>0</td><td>0</td><td>0</td><td>0</td><td>0</td><td>0</td><td>0</td><td>0</td><td>109</td><td>0</td><td>1</td><td>1</td><td>0</td><td>0</td><td>0</td><td>0</td><td>0</td><td>1</td><td>0</td><td>1</td><td>11</td><td>904</td><td>12</td><td>184784000</td><td>1.1666666666666667</td><td>1.532225E7</td><td>82.18181818181819</td><td>1.6798545454545453E7</td><td>0.3968415103243543</td><td>0.14245029878346566</td><td>0.1898111820192165</td><td>0.27089700887296353</td><td>706</td><td>625</td><td>0.017502846759502772</td><td>38</td><td>9</td><td>23</td><td>18</td><td>2</td><td>0.0420353982300885</td><td>0.00995575221238938</td><td>0.025442477876106196</td><td>0.01991150442477876</td><td>0.15405046480743692</td><td>1</td><td>12</td><td>1.0</td></tr><tr><td>1114507</td><td>1</td><td>0</td><td>0</td><td>0</td><td>0</td><td>0</td><td>0</td><td>0</td><td>0</td><td>0</td><td>0</td><td>0</td><td>0</td><td>0</td><td>0</td><td>0</td><td>0</td><td>1</td><td>0</td><td>0</td><td>0</td><td>0</td><td>0</td><td>0</td><td>0</td><td>0</td><td>0</td><td>0</td><td>0</td><td>0</td><td>0</td><td>0</td><td>0</td><td>0</td><td>0</td><td>0</td><td>0</td><td>0</td><td>0</td><td>0</td><td>0</td><td>0</td><td>0</td><td>0</td><td>0</td><td>0</td><td>0</td><td>0</td><td>0</td><td>0</td><td>0</td><td>0</td><td>101</td><td>0</td><td>1</td><td>1</td><td>0</td><td>0</td><td>0</td><td>0</td><td>0</td><td>1</td><td>0</td><td>1</td><td>13</td><td>1045</td><td>12</td><td>203877000</td><td>1.1666666666666667</td><td>1.6968833333333332E7</td><td>80.38461538461539</td><td>1.5682846153846154E7</td><td>0.11899669743752984</td><td>0.31936873308928854</td><td>0.43250139264682474</td><td>0.12913317682635683</td><td>792</td><td>656</td><td>0.009499311291691107</td><td>47</td><td>11</td><td>13</td><td>19</td><td>0</td><td>0.044976076555023926</td><td>0.010526315789473684</td><td>0.012440191387559809</td><td>0.01818181818181818</td><td>0.1474056603773585</td><td>1</td><td>8</td><td>0.6153846153846154</td></tr><tr><td>1133196</td><td>1</td><td>0</td><td>0</td><td>0</td><td>0</td><td>0</td><td>0</td><td>0</td><td>0</td><td>0</td><td>0</td><td>0</td><td>0</td><td>0</td><td>0</td><td>0</td><td>0</td><td>0</td><td>0</td><td>0</td><td>0</td><td>0</td><td>0</td><td>0</td><td>0</td><td>0</td><td>0</td><td>0</td><td>0</td><td>0</td><td>0</td><td>0</td><td>0</td><td>0</td><td>0</td><td>0</td><td>0</td><td>0</td><td>0</td><td>0</td><td>1</td><td>0</td><td>0</td><td>0</td><td>0</td><td>0</td><td>0</td><td>0</td><td>0</td><td>0</td><td>0</td><td>0</td><td>70</td><td>0</td><td>1</td><td>1</td><td>0</td><td>0</td><td>0</td><td>0</td><td>0</td><td>1</td><td>0</td><td>1</td><td>14</td><td>939</td><td>14</td><td>177843000</td><td>1.1428571428571428</td><td>1.2667642857142856E7</td><td>67.07142857142857</td><td>1.270307142857143E7</td><td>0.22700958419261558</td><td>0.15394928956533102</td><td>0.22956612638408352</td><td>0.3894749998579699</td><td>688</td><td>607</td><td>0.006204513759996589</td><td>70</td><td>6</td><td>24</td><td>10</td><td>1</td><td>0.07454739084132056</td><td>0.006389776357827476</td><td>0.025559105431309903</td><td>0.010649627263045794</td><td>0.15868673050615595</td><td>1</td><td>9</td><td>0.5294117647058824</td></tr><tr><td>1142513</td><td>0</td><td>0</td><td>0</td><td>0</td><td>0</td><td>0</td><td>0</td><td>0</td><td>0</td><td>0</td><td>0</td><td>0</td><td>0</td><td>0</td><td>0</td><td>0</td><td>0</td><td>0</td><td>0</td><td>0</td><td>0</td><td>0</td><td>0</td><td>0</td><td>0</td><td>0</td><td>0</td><td>0</td><td>0</td><td>0</td><td>1</td><td>0</td><td>0</td><td>0</td><td>1</td><td>0</td><td>0</td><td>0</td><td>0</td><td>0</td><td>0</td><td>0</td><td>0</td><td>0</td><td>0</td><td>0</td><td>0</td><td>0</td><td>1</td><td>0</td><td>0</td><td>0</td><td>120</td><td>1</td><td>1</td><td>0</td><td>1</td><td>0</td><td>0</td><td>0</td><td>0</td><td>0</td><td>0</td><td>0</td><td>10</td><td>618</td><td>10</td><td>120462000</td><td>1.2</td><td>1.19953E7</td><td>61.8</td><td>1.20462E7</td><td>0.23382449301903593</td><td>0.054646415430366774</td><td>0.31643676809086174</td><td>0.39509232345973555</td><td>459</td><td>422</td><td>0.021313650258696876</td><td>22</td><td>4</td><td>19</td><td>16</td><td>1</td><td>0.03559870550161812</td><td>0.006472491909385114</td><td>0.030744336569579287</td><td>0.025889967637540454</td><td>0.16666666666666666</td><td>0</td><td>0</td><td>0.0</td></tr><tr><td>1151194</td><td>1</td><td>0</td><td>0</td><td>0</td><td>0</td><td>0</td><td>0</td><td>0</td><td>0</td><td>0</td><td>0</td><td>0</td><td>0</td><td>0</td><td>0</td><td>0</td><td>0</td><td>0</td><td>0</td><td>0</td><td>0</td><td>0</td><td>0</td><td>0</td><td>0</td><td>0</td><td>0</td><td>0</td><td>0</td><td>0</td><td>0</td><td>0</td><td>0</td><td>0</td><td>1</td><td>0</td><td>0</td><td>0</td><td>0</td><td>0</td><td>0</td><td>0</td><td>1</td><td>0</td><td>0</td><td>0</td><td>0</td><td>0</td><td>0</td><td>0</td><td>0</td><td>0</td><td>138</td><td>0</td><td>1</td><td>0</td><td>1</td><td>0</td><td>0</td><td>0</td><td>0</td><td>0</td><td>0</td><td>0</td><td>16</td><td>1577</td><td>16</td><td>318368000</td><td>1.125</td><td>1.9864375E7</td><td>98.5625</td><td>1.9898E7</td><td>0.1824056190566655</td><td>0.2036353945688081</td><td>0.20961698804209014</td><td>0.4043419983324362</td><td>1205</td><td>975</td><td>0.00867925354570262</td><td>60</td><td>14</td><td>37</td><td>27</td><td>2</td><td>0.03804692454026633</td><td>0.008877615726062143</td><td>0.023462270133164237</td><td>0.017121116043119847</td><td>0.1336405529953917</td><td>1</td><td>6</td><td>0.35294117647058826</td></tr><tr><td>1156065</td><td>0</td><td>0</td><td>0</td><td>0</td><td>0</td><td>0</td><td>0</td><td>0</td><td>0</td><td>0</td><td>0</td><td>0</td><td>0</td><td>0</td><td>0</td><td>0</td><td>0</td><td>0</td><td>0</td><td>0</td><td>0</td><td>0</td><td>0</td><td>0</td><td>0</td><td>0</td><td>0</td><td>0</td><td>0</td><td>0</td><td>0</td><td>0</td><td>0</td><td>0</td><td>0</td><td>0</td><td>0</td><td>0</td><td>0</td><td>0</td><td>0</td><td>0</td><td>0</td><td>0</td><td>0</td><td>0</td><td>0</td><td>0</td><td>0</td><td>0</td><td>1</td><td>0</td><td>96</td><td>1</td><td>1</td><td>0</td><td>1</td><td>0</td><td>0</td><td>0</td><td>0</td><td>0</td><td>0</td><td>0</td><td>11</td><td>327</td><td>10</td><td>53553000</td><td>1.1</td><td>5355300.0</td><td>29.727272727272727</td><td>4868454.545454546</td><td>0.19668966034340557</td><td>0.34702331858738844</td><td>0.26141561070705555</td><td>0.19487141036215042</td><td>224</td><td>213</td><td>0.011813327708180664</td><td>10</td><td>4</td><td>2</td><td>2</td><td>0</td><td>0.03058103975535168</td><td>0.012232415902140673</td><td>0.0061162079510703364</td><td>0.0061162079510703364</td><td>0.1341991341991342</td><td>0</td><td>0</td><td>0.0</td></tr><tr><td>1178731</td><td>1</td><td>0</td><td>0</td><td>0</td><td>0</td><td>1</td><td>0</td><td>0</td><td>0</td><td>0</td><td>0</td><td>0</td><td>0</td><td>0</td><td>0</td><td>0</td><td>0</td><td>0</td><td>0</td><td>0</td><td>0</td><td>0</td><td>0</td><td>0</td><td>0</td><td>0</td><td>0</td><td>0</td><td>0</td><td>0</td><td>0</td><td>0</td><td>0</td><td>0</td><td>0</td><td>0</td><td>0</td><td>1</td><td>0</td><td>1</td><td>0</td><td>0</td><td>0</td><td>0</td><td>0</td><td>0</td><td>0</td><td>0</td><td>0</td><td>0</td><td>0</td><td>0</td><td>94</td><td>1</td><td>1</td><td>0</td><td>1</td><td>0</td><td>0</td><td>0</td><td>0</td><td>0</td><td>0</td><td>0</td><td>23</td><td>3165</td><td>27</td><td>768650000</td><td>1.1481481481481481</td><td>2.8364925925925925E7</td><td>137.6086956521739</td><td>3.3419565217391305E7</td><td>0.19141453101017278</td><td>0.24527700945219297</td><td>0.33828889217678276</td><td>0.2250195673608515</td><td>2344</td><td>1684</td><td>0.01002619912176744</td><td>147</td><td>27</td><td>84</td><td>35</td><td>7</td><td>0.046445497630331754</td><td>0.008530805687203791</td><td>0.026540284360189573</td><td>0.011058451816745656</td><td>0.13819001126549005</td><td>1</td><td>27</td><td>1.0</td></tr><tr><td>1180406</td><td>0</td><td>0</td><td>0</td><td>0</td><td>0</td><td>0</td><td>0</td><td>0</td><td>0</td><td>0</td><td>0</td><td>0</td><td>0</td><td>1</td><td>0</td><td>0</td><td>0</td><td>0</td><td>0</td><td>0</td><td>0</td><td>0</td><td>0</td><td>0</td><td>0</td><td>0</td><td>0</td><td>0</td><td>0</td><td>0</td><td>0</td><td>0</td><td>0</td><td>0</td><td>0</td><td>0</td><td>0</td><td>0</td><td>0</td><td>0</td><td>0</td><td>0</td><td>0</td><td>0</td><td>0</td><td>0</td><td>0</td><td>0</td><td>0</td><td>0</td><td>0</td><td>0</td><td>180</td><td>0</td><td>1</td><td>1</td><td>0</td><td>0</td><td>0</td><td>0</td><td>0</td><td>1</td><td>0</td><td>1</td><td>9</td><td>679</td><td>10</td><td>140072000</td><td>1.0</td><td>1.39925E7</td><td>75.44444444444444</td><td>1.5563555555555556E7</td><td>0.41377168463552066</td><td>0.22863086699104268</td><td>0.23496556585868444</td><td>0.12263188251475221</td><td>519</td><td>470</td><td>0.021250182615714028</td><td>23</td><td>6</td><td>19</td><td>7</td><td>2</td><td>0.033873343151693665</td><td>0.008836524300441826</td><td>0.027982326951399118</td><td>0.010309278350515464</td><td>0.1431159420289855</td><td>0</td><td>2</td><td>0.18181818181818182</td></tr><tr><td>1190352</td><td>0</td><td>0</td><td>0</td><td>0</td><td>0</td><td>0</td><td>0</td><td>0</td><td>0</td><td>0</td><td>0</td><td>0</td><td>0</td><td>0</td><td>0</td><td>0</td><td>0</td><td>0</td><td>0</td><td>0</td><td>0</td><td>0</td><td>0</td><td>0</td><td>0</td><td>0</td><td>0</td><td>0</td><td>0</td><td>0</td><td>0</td><td>0</td><td>0</td><td>0</td><td>1</td><td>0</td><td>0</td><td>0</td><td>0</td><td>0</td><td>0</td><td>0</td><td>1</td><td>0</td><td>0</td><td>0</td><td>0</td><td>0</td><td>0</td><td>0</td><td>0</td><td>0</td><td>75</td><td>0</td><td>1</td><td>1</td><td>0</td><td>0</td><td>0</td><td>0</td><td>0</td><td>1</td><td>0</td><td>1</td><td>26</td><td>2622</td><td>26</td><td>552978000</td><td>1.3461538461538463</td><td>2.1167269230769232E7</td><td>100.84615384615384</td><td>2.1268384615384616E7</td><td>0.31390848911156455</td><td>0.17310220041907506</td><td>0.22065420440817105</td><td>0.29233510606118934</td><td>1974</td><td>1434</td><td>0.008234510292812353</td><td>113</td><td>28</td><td>63</td><td>40</td><td>3</td><td>0.04309687261632342</td><td>0.010678871090770405</td><td>0.02402745995423341</td><td>0.015255530129672006</td><td>0.13267148014440433</td><td>1</td><td>26</td><td>1.0</td></tr></tbody></table></div>"
      ]
     },
     "metadata": {},
     "output_type": "display_data"
    }
   ],
   "source": [
    "display(featues.limit(20))"
   ]
  },
  {
   "cell_type": "code",
   "execution_count": 26,
   "metadata": {},
   "outputs": [
    {
     "data": {
      "text/html": [
       "<style scoped>\n",
       "  .ansiout {\n",
       "    display: block;\n",
       "    unicode-bidi: embed;\n",
       "    white-space: pre-wrap;\n",
       "    word-wrap: break-word;\n",
       "    word-break: break-all;\n",
       "    font-family: \"Source Code Pro\", \"Menlo\", monospace;;\n",
       "    font-size: 13px;\n",
       "    color: #555;\n",
       "    margin-left: 4px;\n",
       "    line-height: 19px;\n",
       "  }\n",
       "</style>\n",
       "<div class=\"ansiout\"></div>"
      ]
     },
     "metadata": {},
     "output_type": "display_data"
    }
   ],
   "source": [
    "featues.filter(\"userId != 1261737\").fillna(0).join(last_status, on=\"userId\")\\\n",
    ".write.parquet(\"s3://tianyi-wang-data-science-projects/churn-prediction-2020/features1\", mode='overwrite')"
   ]
  }
 ],
 "metadata": {
  "kernelspec": {
   "display_name": "Python 3",
   "language": "python",
   "name": "python3"
  },
  "language_info": {
   "codemirror_mode": {
    "name": "ipython",
    "version": 3
   },
   "file_extension": ".py",
   "mimetype": "text/x-python",
   "name": "python",
   "nbconvert_exporter": "python",
   "pygments_lexer": "ipython3",
   "version": "3.7.1"
  },
  "name": "02 Define the problem and prepare data for modeling",
  "notebookId": 310768042015393
 },
 "nbformat": 4,
 "nbformat_minor": 1
}
